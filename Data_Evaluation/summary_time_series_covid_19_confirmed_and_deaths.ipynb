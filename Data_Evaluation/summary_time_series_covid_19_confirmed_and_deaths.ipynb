{
 "cells": [
  {
   "cell_type": "code",
   "execution_count": 1,
   "metadata": {},
   "outputs": [],
   "source": [
    "import matplotlib.pyplot as plt\n",
    "import pandas as pd\n",
    "import numpy as np\n",
    "import os\n",
    "import csv"
   ]
  },
  {
   "cell_type": "code",
   "execution_count": 3,
   "metadata": {},
   "outputs": [
    {
     "data": {
      "text/html": [
       "<div>\n",
       "<style scoped>\n",
       "    .dataframe tbody tr th:only-of-type {\n",
       "        vertical-align: middle;\n",
       "    }\n",
       "\n",
       "    .dataframe tbody tr th {\n",
       "        vertical-align: top;\n",
       "    }\n",
       "\n",
       "    .dataframe thead th {\n",
       "        text-align: right;\n",
       "    }\n",
       "</style>\n",
       "<table border=\"1\" class=\"dataframe\">\n",
       "  <thead>\n",
       "    <tr style=\"text-align: right;\">\n",
       "      <th></th>\n",
       "      <th>Date</th>\n",
       "      <th>Total US Deaths</th>\n",
       "      <th>CA Deaths</th>\n",
       "      <th>NY Deaths</th>\n",
       "      <th>Total US Cases</th>\n",
       "      <th>CA Cases</th>\n",
       "      <th>NY Cases</th>\n",
       "    </tr>\n",
       "  </thead>\n",
       "  <tbody>\n",
       "    <tr>\n",
       "      <th>0</th>\n",
       "      <td>Break 0: 1/22/20-4/22/20</td>\n",
       "      <td>616979.0</td>\n",
       "      <td>16638.0</td>\n",
       "      <td>292382.0</td>\n",
       "      <td>13180275.0</td>\n",
       "      <td>551275.0</td>\n",
       "      <td>4613818.0</td>\n",
       "    </tr>\n",
       "    <tr>\n",
       "      <th>1</th>\n",
       "      <td>4/29/20</td>\n",
       "      <td>403663.0</td>\n",
       "      <td>12157.0</td>\n",
       "      <td>160289.0</td>\n",
       "      <td>6810004.0</td>\n",
       "      <td>306726.0</td>\n",
       "      <td>2034333.0</td>\n",
       "    </tr>\n",
       "    <tr>\n",
       "      <th>2</th>\n",
       "      <td>5/6/20</td>\n",
       "      <td>497416.0</td>\n",
       "      <td>15676.0</td>\n",
       "      <td>178783.0</td>\n",
       "      <td>8151923.0</td>\n",
       "      <td>385362.0</td>\n",
       "      <td>2236786.0</td>\n",
       "    </tr>\n",
       "    <tr>\n",
       "      <th>3</th>\n",
       "      <td>5/13/20</td>\n",
       "      <td>580102.0</td>\n",
       "      <td>19166.0</td>\n",
       "      <td>193343.0</td>\n",
       "      <td>9358238.0</td>\n",
       "      <td>473227.0</td>\n",
       "      <td>2368695.0</td>\n",
       "    </tr>\n",
       "    <tr>\n",
       "      <th>4</th>\n",
       "      <td>5/20/20</td>\n",
       "      <td>650134.0</td>\n",
       "      <td>22815.0</td>\n",
       "      <td>203720.0</td>\n",
       "      <td>10468322.0</td>\n",
       "      <td>561755.0</td>\n",
       "      <td>2466093.0</td>\n",
       "    </tr>\n",
       "  </tbody>\n",
       "</table>\n",
       "</div>"
      ],
      "text/plain": [
       "                       Date  Total US Deaths  CA Deaths  NY Deaths  \\\n",
       "0  Break 0: 1/22/20-4/22/20         616979.0    16638.0   292382.0   \n",
       "1                   4/29/20         403663.0    12157.0   160289.0   \n",
       "2                    5/6/20         497416.0    15676.0   178783.0   \n",
       "3                   5/13/20         580102.0    19166.0   193343.0   \n",
       "4                   5/20/20         650134.0    22815.0   203720.0   \n",
       "\n",
       "   Total US Cases  CA Cases   NY Cases  \n",
       "0      13180275.0  551275.0  4613818.0  \n",
       "1       6810004.0  306726.0  2034333.0  \n",
       "2       8151923.0  385362.0  2236786.0  \n",
       "3       9358238.0  473227.0  2368695.0  \n",
       "4      10468322.0  561755.0  2466093.0  "
      ]
     },
     "execution_count": 3,
     "metadata": {},
     "output_type": "execute_result"
    }
   ],
   "source": [
    "covidtotal = pd.read_csv(\"Resources/summary_time_series_covid_19_US.csv\") \n",
    "covidtotal.head()"
   ]
  },
  {
   "cell_type": "code",
   "execution_count": null,
   "metadata": {},
   "outputs": [],
   "source": []
  }
 ],
 "metadata": {
  "kernelspec": {
   "display_name": "Python 3",
   "language": "python",
   "name": "python3"
  },
  "language_info": {
   "codemirror_mode": {
    "name": "ipython",
    "version": 3
   },
   "file_extension": ".py",
   "mimetype": "text/x-python",
   "name": "python",
   "nbconvert_exporter": "python",
   "pygments_lexer": "ipython3",
   "version": "3.8.3"
  }
 },
 "nbformat": 4,
 "nbformat_minor": 4
}
