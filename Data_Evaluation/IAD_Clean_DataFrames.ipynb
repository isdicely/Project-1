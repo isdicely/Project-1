{
 "cells": [
  {
   "cell_type": "code",
   "execution_count": null,
   "metadata": {},
   "outputs": [],
   "source": [
    "# Import Dependencies\n",
    "import pandas as pd\n",
    "import datetime\n",
    "import numpy as np\n",
    "import matplotlib.pyplot as plt\n",
    "# import scipy.stats as st"
   ]
  },
  {
   "cell_type": "code",
   "execution_count": null,
   "metadata": {},
   "outputs": [],
   "source": [
    "# Import data\n",
    "\n",
    "csv_path = \"Resources/Indicators_of_Anxiety_or_Depression_Based_on_Reported_Frequency_of_Symptoms_During_Last_7_Days.csv\"\n",
    "data_file = pd.read_csv(csv_path)"
   ]
  },
  {
   "cell_type": "code",
   "execution_count": null,
   "metadata": {},
   "outputs": [],
   "source": [
    "# Create data frame from the whole data\n",
    "all_data_df = pd.DataFrame(data_file)\n",
    "all_data_df.head()"
   ]
  },
  {
   "cell_type": "code",
   "execution_count": null,
   "metadata": {},
   "outputs": [],
   "source": [
    "# Sort the data frame to only have data related to: Symptoms of Anxiety Disorder or Depressive Disorder\n",
    "IAD_df = all_data_df.loc[all_data_df[\"Indicator\"]==\"Symptoms of Anxiety Disorder or Depressive Disorder\"]\n",
    "IAD_df.head()"
   ]
  },
  {
   "cell_type": "code",
   "execution_count": null,
   "metadata": {},
   "outputs": [],
   "source": [
    "# Clean data by removing rows with NaN data for the Value column\n",
    "    # Weeks Jul 22 - Aug 18 and Dec 22 - Jan 5 do have data.\n",
    "    # Will remove these rows by removings rows where the Phase column equals -1\n",
    "IAD_df2 = IAD_df[IAD_df[\"Phase\"]!= -1]\n",
    "# Check that rows where Phase equals -1 has been removed.\n",
    "IAD_df2[\"Phase\"].unique()"
   ]
  },
  {
   "cell_type": "code",
   "execution_count": null,
   "metadata": {},
   "outputs": [],
   "source": [
    "# Remove unwanted columns:\n",
    "    # \"Confidence Interval\", \"Quartile range\"\n",
    "IAD_df3 = IAD_df2.drop([\"Confidence Interval\", \"Quartile range\"], axis=1)\n",
    "IAD_df3"
   ]
  },
  {
   "cell_type": "code",
   "execution_count": null,
   "metadata": {},
   "outputs": [],
   "source": [
    "# IAD_df4.dtypes\n",
    "\n",
    "# Split the Time Period and convert to a date\n",
    "\n",
    "# Copy the data frame to retain integrity\n",
    "IAD_df4 = IAD_df3.copy()\n",
    "\n",
    "# Split the Time Period Label\n",
    "IAD_df4a = IAD_df4.astype({'Time Period Label': 'str'})\n",
    "IAD_df4a[[\"Start Period\", \"End Period\"]] = IAD_df4[\"Time Period Label\"].str.split(\"-\",n=1, expand=True)\n",
    "IAD_df4a.head()"
   ]
  },
  {
   "cell_type": "code",
   "execution_count": null,
   "metadata": {},
   "outputs": [],
   "source": [
    "# Add year to the Start Period and End Period\n",
    "# Copy the data frame for integrity\n",
    "IAD_df4b = IAD_df4a.copy()\n",
    "# Create a function to add the year\n",
    "    # provide function some text of type string\n",
    "def add_year(text: str):\n",
    "    # Looks for month to either add 2020 or 2021\n",
    "    year = \"2021\" if text.startswith(\"Jan\") else \"2020\"\n",
    "    # Adds the year to the text passed\n",
    "    return f\"{text.strip()}, {year}\"\n",
    "\n",
    "# Use the definition add_year\n",
    "IAD_df4b[\"Start Period\"] = IAD_df4b[\"Start Period\"].apply(add_year)\n",
    "IAD_df4b[\"End Period\"] = IAD_df4b[\"End Period\"].apply(add_year)\n",
    "IAD_df4b.head(3)"
   ]
  },
  {
   "cell_type": "code",
   "execution_count": null,
   "metadata": {},
   "outputs": [],
   "source": [
    "# Convert columns \"Start Period\" and \"End Period\" from string to date\n",
    "# Copy data frame fro integrity\n",
    "IAD_df4c=IAD_df4b.copy()\n",
    "# Create function to convert string to date\n",
    "    # provide function a text of type string\n",
    "def convert_to_date(text: str):\n",
    "    # dateime.strptime converts the string to a datetime object\n",
    "    # Data needs to be modifed to support the format it is looking for to change the string to a date object         \n",
    "    text = text.replace(\"June\", \"Jun\").replace(\"July\", \"Jul\")\n",
    "              # module.class.fuction\n",
    "    date = datetime.datetime.strptime(text, \"%b %d, %Y\")\n",
    "    return date\n",
    "\n",
    "# Use the definition to convert the values\n",
    "IAD_df4c[\"Start Period\"] = IAD_df4c[\"Start Period\"].apply(convert_to_date)\n",
    "IAD_df4c[\"End Period\"] = IAD_df4c[\"End Period\"].apply(convert_to_date)\n",
    "IAD_df4c.head()"
   ]
  },
  {
   "cell_type": "code",
   "execution_count": null,
   "metadata": {},
   "outputs": [],
   "source": [
    "# Clean modified data frame by removing the following columns\n",
    "IAD_clean_df = IAD_df4c.drop([\"Time Period\", \"Time Period Label\", \"Low CI\", \"High CI\"], axis=1)\n",
    "# Reset the index\n",
    "IAD_clean_df = IAD_clean_df.reset_index(drop=True)\n",
    "IAD_clean_df"
   ]
  },
  {
   "cell_type": "code",
   "execution_count": null,
   "metadata": {},
   "outputs": [],
   "source": [
    "# Create subgroup data frame to hold the information grouped by age.\n",
    "IAD_age_df = IAD_clean_df.loc[IAD_clean_df[\"Group\"]==\"By Age\"]\n",
    "IAD_age_df"
   ]
  },
  {
   "cell_type": "code",
   "execution_count": null,
   "metadata": {},
   "outputs": [],
   "source": [
    "# Create subgroup data frame to hold the information grouped by state.\n",
    "IAD_state_df=IAD_clean_df.loc[IAD_clean_df[\"Group\"]==\"By State\"]\n",
    "IAD_state_df"
   ]
  },
  {
   "cell_type": "code",
   "execution_count": null,
   "metadata": {},
   "outputs": [],
   "source": [
    "# Create subgroup data frame to hold the information for the National Estimate numbers\n",
    "IAD_national_df=IAD_clean_df.loc[IAD_clean_df[\"Group\"]==\"National Estimate\"]\n",
    "IAD_national_df"
   ]
  },
  {
   "cell_type": "code",
   "execution_count": null,
   "metadata": {},
   "outputs": [],
   "source": [
    "# Create subgroup data frame to hold the information based on gender\n",
    "IAD_gender_df=IAD_clean_df.loc[IAD_clean_df[\"Group\"]==\"By Gender\"]\n",
    "IAD_gender_df"
   ]
  },
  {
   "cell_type": "code",
   "execution_count": null,
   "metadata": {},
   "outputs": [],
   "source": [
    "# To Do: Plots:\n",
    "    # Age groups\n",
    "    # Use IAD_age_df to do line graphs for all age groups\n",
    "        # This will show is our age group has suffered the most impact to their mental health\n",
    "    \n",
    "    # State grpups\n",
    "    # Use IAD_state_df to look at impact of mental health in NY and CA, super impose National Average(different data frame)\n",
    "        # Take a look to see if in this data frame we have the metropolitan areas (bonus work - i think)\n",
    "    \n",
    "    # National group\n",
    "    # Use IAD_national_df to look at the national average\n",
    "        # Used along the states and any other graphs we want to add it to\n",
    "    \n",
    "    # Gender groups\n",
    "    # Use IAD_gender_df to look at the mental health impact by gender"
   ]
  },
  {
   "cell_type": "code",
   "execution_count": null,
   "metadata": {},
   "outputs": [],
   "source": []
  },
  {
   "cell_type": "code",
   "execution_count": null,
   "metadata": {},
   "outputs": [],
   "source": []
  }
 ],
 "metadata": {
  "kernelspec": {
   "display_name": "Python [conda env:PythonData]",
   "language": "python",
   "name": "conda-env-PythonData-py"
  },
  "language_info": {
   "codemirror_mode": {
    "name": "ipython",
    "version": 3
   },
   "file_extension": ".py",
   "mimetype": "text/x-python",
   "name": "python",
   "nbconvert_exporter": "python",
   "pygments_lexer": "ipython3",
   "version": "3.8.5"
  }
 },
 "nbformat": 4,
 "nbformat_minor": 4
}
